{
 "cells": [
  {
   "cell_type": "code",
   "execution_count": 1,
   "id": "4c099e0b-6827-4e6f-b70e-0eb47582aad3",
   "metadata": {},
   "outputs": [],
   "source": [
    "import numpy as np\n",
    "import pandas as pd\n",
    "import seaborn as sns\n",
    "import re\n",
    "from nltk.corpus import stopwords, wordnet\n",
    "from nltk.stem import WordNetLemmatizer\n",
    "from sklearn.feature_extraction.text import TfidfVectorizer\n",
    "from sklearn.model_selection import train_test_split\n",
    "from sklearn.metrics import f1_score, accuracy_score, precision_score, recall_score\n",
    "from sklearn.metrics import accuracy_score, classification_report,confusion_matrix\n",
    "\n",
    "from sklearn.model_selection import train_test_split\n",
    "from sklearn.preprocessing import LabelEncoder\n",
    "\n",
    "from sklearn.naive_bayes import MultinomialNB\n",
    "from sklearn.linear_model import LogisticRegression,SGDClassifier\n",
    "from sklearn.svm import LinearSVC\n",
    "from sklearn.ensemble import RandomForestClassifier\n",
    "\n",
    "from sklearn.model_selection import GridSearchCV\n",
    "\n",
    "from time import time\n",
    "import pickle\n",
    "\n",
    "import warnings\n",
    "warnings.filterwarnings(\"ignore\")"
   ]
  },
  {
   "cell_type": "markdown",
   "id": "061aec66-833b-4de1-87c6-c299faaf4c08",
   "metadata": {},
   "source": [
    "## Dataset reading"
   ]
  },
  {
   "cell_type": "code",
   "execution_count": 2,
   "id": "b4b62d73-5d7f-4f6a-a5a4-e7f91f3625a4",
   "metadata": {},
   "outputs": [],
   "source": [
    "data = pd.read_csv(\"C:/Users/adars/OneDrive/Desktop/nlp_project/data.csv\")"
   ]
  },
  {
   "cell_type": "code",
   "execution_count": 3,
   "id": "42a76633-2b92-422b-9415-cf73103910ce",
   "metadata": {},
   "outputs": [
    {
     "data": {
      "text/html": [
       "<div>\n",
       "<style scoped>\n",
       "    .dataframe tbody tr th:only-of-type {\n",
       "        vertical-align: middle;\n",
       "    }\n",
       "\n",
       "    .dataframe tbody tr th {\n",
       "        vertical-align: top;\n",
       "    }\n",
       "\n",
       "    .dataframe thead th {\n",
       "        text-align: right;\n",
       "    }\n",
       "</style>\n",
       "<table border=\"1\" class=\"dataframe\">\n",
       "  <thead>\n",
       "    <tr style=\"text-align: right;\">\n",
       "      <th></th>\n",
       "      <th>media</th>\n",
       "      <th>text</th>\n",
       "      <th>category</th>\n",
       "    </tr>\n",
       "  </thead>\n",
       "  <tbody>\n",
       "    <tr>\n",
       "      <th>0</th>\n",
       "      <td>facebook_corpus_msr_451811</td>\n",
       "      <td>The quality of re made now makes me think it i...</td>\n",
       "      <td>CAG</td>\n",
       "    </tr>\n",
       "    <tr>\n",
       "      <th>1</th>\n",
       "      <td>facebook_corpus_msr_334368</td>\n",
       "      <td>@siva \\nHow is ur mother???\\nHow is ur wife???...</td>\n",
       "      <td>NAG</td>\n",
       "    </tr>\n",
       "    <tr>\n",
       "      <th>2</th>\n",
       "      <td>facebook_corpus_msr_331195</td>\n",
       "      <td>Also see ....hw ur RSS activist caught in Burk...</td>\n",
       "      <td>NAG</td>\n",
       "    </tr>\n",
       "    <tr>\n",
       "      <th>3</th>\n",
       "      <td>facebook_corpus_msr_403402</td>\n",
       "      <td>On the death of 2 jawans in LOC CROSS FIRING\\n...</td>\n",
       "      <td>NAG</td>\n",
       "    </tr>\n",
       "    <tr>\n",
       "      <th>4</th>\n",
       "      <td>facebook_corpus_msr_379239</td>\n",
       "      <td>Modi ho ya Manmohan singh saala yeh log kuch n...</td>\n",
       "      <td>OAG</td>\n",
       "    </tr>\n",
       "    <tr>\n",
       "      <th>...</th>\n",
       "      <td>...</td>\n",
       "      <td>...</td>\n",
       "      <td>...</td>\n",
       "    </tr>\n",
       "    <tr>\n",
       "      <th>14996</th>\n",
       "      <td>facebook_corpus_msr_394638</td>\n",
       "      <td>They belong to you flight dirty terrorist coun...</td>\n",
       "      <td>OAG</td>\n",
       "    </tr>\n",
       "    <tr>\n",
       "      <th>14997</th>\n",
       "      <td>facebook_corpus_msr_429177</td>\n",
       "      <td>Really motivating programme, congratulations t...</td>\n",
       "      <td>NAG</td>\n",
       "    </tr>\n",
       "    <tr>\n",
       "      <th>14998</th>\n",
       "      <td>facebook_corpus_msr_2032370</td>\n",
       "      <td>fabricated news</td>\n",
       "      <td>OAG</td>\n",
       "    </tr>\n",
       "    <tr>\n",
       "      <th>14999</th>\n",
       "      <td>facebook_corpus_msr_1722926</td>\n",
       "      <td>What's wrong with you secular idiots</td>\n",
       "      <td>OAG</td>\n",
       "    </tr>\n",
       "    <tr>\n",
       "      <th>15000</th>\n",
       "      <td>facebook_corpus_msr_327960</td>\n",
       "      <td>Looks like inevitable after all political hard...</td>\n",
       "      <td>NAG</td>\n",
       "    </tr>\n",
       "  </tbody>\n",
       "</table>\n",
       "<p>15001 rows × 3 columns</p>\n",
       "</div>"
      ],
      "text/plain": [
       "                             media  \\\n",
       "0       facebook_corpus_msr_451811   \n",
       "1       facebook_corpus_msr_334368   \n",
       "2       facebook_corpus_msr_331195   \n",
       "3       facebook_corpus_msr_403402   \n",
       "4       facebook_corpus_msr_379239   \n",
       "...                            ...   \n",
       "14996   facebook_corpus_msr_394638   \n",
       "14997   facebook_corpus_msr_429177   \n",
       "14998  facebook_corpus_msr_2032370   \n",
       "14999  facebook_corpus_msr_1722926   \n",
       "15000   facebook_corpus_msr_327960   \n",
       "\n",
       "                                                    text category  \n",
       "0      The quality of re made now makes me think it i...      CAG  \n",
       "1      @siva \\nHow is ur mother???\\nHow is ur wife???...      NAG  \n",
       "2      Also see ....hw ur RSS activist caught in Burk...      NAG  \n",
       "3      On the death of 2 jawans in LOC CROSS FIRING\\n...      NAG  \n",
       "4      Modi ho ya Manmohan singh saala yeh log kuch n...      OAG  \n",
       "...                                                  ...      ...  \n",
       "14996  They belong to you flight dirty terrorist coun...      OAG  \n",
       "14997  Really motivating programme, congratulations t...      NAG  \n",
       "14998                                    fabricated news      OAG  \n",
       "14999               What's wrong with you secular idiots      OAG  \n",
       "15000  Looks like inevitable after all political hard...      NAG  \n",
       "\n",
       "[15001 rows x 3 columns]"
      ]
     },
     "execution_count": 3,
     "metadata": {},
     "output_type": "execute_result"
    }
   ],
   "source": [
    "data"
   ]
  },
  {
   "cell_type": "code",
   "execution_count": 4,
   "id": "66c45eee-2f43-4867-833b-d89d5286f3c4",
   "metadata": {},
   "outputs": [
    {
     "name": "stdout",
     "output_type": "stream",
     "text": [
      "<class 'pandas.core.frame.DataFrame'>\n",
      "RangeIndex: 15001 entries, 0 to 15000\n",
      "Data columns (total 3 columns):\n",
      " #   Column    Non-Null Count  Dtype \n",
      "---  ------    --------------  ----- \n",
      " 0   media     15001 non-null  object\n",
      " 1   text      15001 non-null  object\n",
      " 2   category  15001 non-null  object\n",
      "dtypes: object(3)\n",
      "memory usage: 351.7+ KB\n"
     ]
    }
   ],
   "source": [
    "data.info()"
   ]
  },
  {
   "cell_type": "code",
   "execution_count": 5,
   "id": "d9f030cb-8e67-468f-8518-6f27921cfde5",
   "metadata": {},
   "outputs": [
    {
     "data": {
      "text/plain": [
       "media       0\n",
       "text        0\n",
       "category    0\n",
       "dtype: int64"
      ]
     },
     "execution_count": 5,
     "metadata": {},
     "output_type": "execute_result"
    }
   ],
   "source": [
    "data.isnull().sum()"
   ]
  },
  {
   "cell_type": "code",
   "execution_count": 6,
   "id": "823ed38b-88e7-45e1-a8b9-a722b0d17474",
   "metadata": {},
   "outputs": [
    {
     "data": {
      "text/plain": [
       "category\n",
       "NAG    6285\n",
       "CAG    5297\n",
       "OAG    3419\n",
       "Name: count, dtype: int64"
      ]
     },
     "execution_count": 6,
     "metadata": {},
     "output_type": "execute_result"
    }
   ],
   "source": [
    " # Overtly Aggressive(OAG), Covertly Aggressive (CAG) and Non-Aggressive(NAG) classes.\n",
    "value_counts = data['category'].value_counts()\n",
    "value_counts"
   ]
  },
  {
   "cell_type": "markdown",
   "id": "0abd6870-2e0b-49ab-b7c9-f4efe5898806",
   "metadata": {},
   "source": [
    "## Data cleaning"
   ]
  },
  {
   "cell_type": "code",
   "execution_count": 7,
   "id": "6cd92cc3-59cd-4e44-8853-0458fabacd96",
   "metadata": {},
   "outputs": [
    {
     "data": {
      "text/html": [
       "<div>\n",
       "<style scoped>\n",
       "    .dataframe tbody tr th:only-of-type {\n",
       "        vertical-align: middle;\n",
       "    }\n",
       "\n",
       "    .dataframe tbody tr th {\n",
       "        vertical-align: top;\n",
       "    }\n",
       "\n",
       "    .dataframe thead th {\n",
       "        text-align: right;\n",
       "    }\n",
       "</style>\n",
       "<table border=\"1\" class=\"dataframe\">\n",
       "  <thead>\n",
       "    <tr style=\"text-align: right;\">\n",
       "      <th></th>\n",
       "      <th>media</th>\n",
       "      <th>text</th>\n",
       "      <th>category</th>\n",
       "    </tr>\n",
       "  </thead>\n",
       "  <tbody>\n",
       "    <tr>\n",
       "      <th>0</th>\n",
       "      <td>facebook_corpus_msr_451811</td>\n",
       "      <td>The quality of re made now makes me think it i...</td>\n",
       "      <td>0</td>\n",
       "    </tr>\n",
       "    <tr>\n",
       "      <th>1</th>\n",
       "      <td>facebook_corpus_msr_334368</td>\n",
       "      <td>@siva \\nHow is ur mother???\\nHow is ur wife???...</td>\n",
       "      <td>1</td>\n",
       "    </tr>\n",
       "    <tr>\n",
       "      <th>2</th>\n",
       "      <td>facebook_corpus_msr_331195</td>\n",
       "      <td>Also see ....hw ur RSS activist caught in Burk...</td>\n",
       "      <td>1</td>\n",
       "    </tr>\n",
       "    <tr>\n",
       "      <th>3</th>\n",
       "      <td>facebook_corpus_msr_403402</td>\n",
       "      <td>On the death of 2 jawans in LOC CROSS FIRING\\n...</td>\n",
       "      <td>1</td>\n",
       "    </tr>\n",
       "    <tr>\n",
       "      <th>4</th>\n",
       "      <td>facebook_corpus_msr_379239</td>\n",
       "      <td>Modi ho ya Manmohan singh saala yeh log kuch n...</td>\n",
       "      <td>2</td>\n",
       "    </tr>\n",
       "    <tr>\n",
       "      <th>...</th>\n",
       "      <td>...</td>\n",
       "      <td>...</td>\n",
       "      <td>...</td>\n",
       "    </tr>\n",
       "    <tr>\n",
       "      <th>14996</th>\n",
       "      <td>facebook_corpus_msr_394638</td>\n",
       "      <td>They belong to you flight dirty terrorist coun...</td>\n",
       "      <td>2</td>\n",
       "    </tr>\n",
       "    <tr>\n",
       "      <th>14997</th>\n",
       "      <td>facebook_corpus_msr_429177</td>\n",
       "      <td>Really motivating programme, congratulations t...</td>\n",
       "      <td>1</td>\n",
       "    </tr>\n",
       "    <tr>\n",
       "      <th>14998</th>\n",
       "      <td>facebook_corpus_msr_2032370</td>\n",
       "      <td>fabricated news</td>\n",
       "      <td>2</td>\n",
       "    </tr>\n",
       "    <tr>\n",
       "      <th>14999</th>\n",
       "      <td>facebook_corpus_msr_1722926</td>\n",
       "      <td>What's wrong with you secular idiots</td>\n",
       "      <td>2</td>\n",
       "    </tr>\n",
       "    <tr>\n",
       "      <th>15000</th>\n",
       "      <td>facebook_corpus_msr_327960</td>\n",
       "      <td>Looks like inevitable after all political hard...</td>\n",
       "      <td>1</td>\n",
       "    </tr>\n",
       "  </tbody>\n",
       "</table>\n",
       "<p>15001 rows × 3 columns</p>\n",
       "</div>"
      ],
      "text/plain": [
       "                             media  \\\n",
       "0       facebook_corpus_msr_451811   \n",
       "1       facebook_corpus_msr_334368   \n",
       "2       facebook_corpus_msr_331195   \n",
       "3       facebook_corpus_msr_403402   \n",
       "4       facebook_corpus_msr_379239   \n",
       "...                            ...   \n",
       "14996   facebook_corpus_msr_394638   \n",
       "14997   facebook_corpus_msr_429177   \n",
       "14998  facebook_corpus_msr_2032370   \n",
       "14999  facebook_corpus_msr_1722926   \n",
       "15000   facebook_corpus_msr_327960   \n",
       "\n",
       "                                                    text  category  \n",
       "0      The quality of re made now makes me think it i...         0  \n",
       "1      @siva \\nHow is ur mother???\\nHow is ur wife???...         1  \n",
       "2      Also see ....hw ur RSS activist caught in Burk...         1  \n",
       "3      On the death of 2 jawans in LOC CROSS FIRING\\n...         1  \n",
       "4      Modi ho ya Manmohan singh saala yeh log kuch n...         2  \n",
       "...                                                  ...       ...  \n",
       "14996  They belong to you flight dirty terrorist coun...         2  \n",
       "14997  Really motivating programme, congratulations t...         1  \n",
       "14998                                    fabricated news         2  \n",
       "14999               What's wrong with you secular idiots         2  \n",
       "15000  Looks like inevitable after all political hard...         1  \n",
       "\n",
       "[15001 rows x 3 columns]"
      ]
     },
     "execution_count": 7,
     "metadata": {},
     "output_type": "execute_result"
    }
   ],
   "source": [
    "encoder = LabelEncoder()\n",
    "data['category'] = encoder.fit_transform(data['category'])\n",
    "data"
   ]
  },
  {
   "cell_type": "code",
   "execution_count": 8,
   "id": "c5224c35-1d9a-4ba5-be47-c22f457f9901",
   "metadata": {},
   "outputs": [
    {
     "name": "stdout",
     "output_type": "stream",
     "text": [
      "Class 'CAG' is mapped to 0\n",
      "Class 'NAG' is mapped to 1\n",
      "Class 'OAG' is mapped to 2\n"
     ]
    }
   ],
   "source": [
    "for idx, class_name in enumerate(encoder.classes_):\n",
    "    print(f\"Class '{class_name}' is mapped to {idx}\")"
   ]
  },
  {
   "cell_type": "code",
   "execution_count": 9,
   "id": "4009f94e-6313-4010-8494-2b24a56e95d2",
   "metadata": {},
   "outputs": [],
   "source": [
    "data.replace({'category':{2:0}}, inplace=True)"
   ]
  },
  {
   "cell_type": "code",
   "execution_count": 10,
   "id": "7007f472-9acb-461c-97fd-87edb7014fd4",
   "metadata": {},
   "outputs": [
    {
     "data": {
      "text/plain": [
       "category\n",
       "0    8716\n",
       "1    6285\n",
       "Name: count, dtype: int64"
      ]
     },
     "execution_count": 10,
     "metadata": {},
     "output_type": "execute_result"
    }
   ],
   "source": [
    "data['category'].value_counts()"
   ]
  },
  {
   "cell_type": "code",
   "execution_count": 11,
   "id": "615c7010-8930-4767-af55-6f11c26d5948",
   "metadata": {},
   "outputs": [
    {
     "name": "stdout",
     "output_type": "stream",
     "text": [
      "<class 'pandas.core.frame.DataFrame'>\n",
      "RangeIndex: 15001 entries, 0 to 15000\n",
      "Data columns (total 3 columns):\n",
      " #   Column    Non-Null Count  Dtype \n",
      "---  ------    --------------  ----- \n",
      " 0   media     15001 non-null  object\n",
      " 1   text      15001 non-null  object\n",
      " 2   category  15001 non-null  int32 \n",
      "dtypes: int32(1), object(2)\n",
      "memory usage: 293.1+ KB\n"
     ]
    }
   ],
   "source": [
    "data.info()"
   ]
  },
  {
   "cell_type": "markdown",
   "id": "84b96c00-942b-4833-a05f-16b5dc39ac87",
   "metadata": {},
   "source": [
    "## Data preprocessing"
   ]
  },
  {
   "cell_type": "code",
   "execution_count": 12,
   "id": "3846a620-986d-468f-a400-5de8b9aadffb",
   "metadata": {},
   "outputs": [
    {
     "name": "stderr",
     "output_type": "stream",
     "text": [
      "[nltk_data] Downloading package punkt to\n",
      "[nltk_data]     C:\\Users\\adars\\AppData\\Roaming\\nltk_data...\n",
      "[nltk_data]   Package punkt is already up-to-date!\n",
      "[nltk_data] Downloading package averaged_perceptron_tagger to\n",
      "[nltk_data]     C:\\Users\\adars\\AppData\\Roaming\\nltk_data...\n",
      "[nltk_data]   Package averaged_perceptron_tagger is already up-to-\n",
      "[nltk_data]       date!\n",
      "[nltk_data] Downloading package wordnet to\n",
      "[nltk_data]     C:\\Users\\adars\\AppData\\Roaming\\nltk_data...\n",
      "[nltk_data]   Package wordnet is already up-to-date!\n",
      "[nltk_data] Downloading package stopwords to\n",
      "[nltk_data]     C:\\Users\\adars\\AppData\\Roaming\\nltk_data...\n",
      "[nltk_data]   Package stopwords is already up-to-date!\n"
     ]
    },
    {
     "data": {
      "text/plain": [
       "True"
      ]
     },
     "execution_count": 12,
     "metadata": {},
     "output_type": "execute_result"
    }
   ],
   "source": [
    "# Download required resources\n",
    "import nltk\n",
    "nltk.download('punkt')\n",
    "nltk.download('averaged_perceptron_tagger')\n",
    "nltk.download('wordnet')\n",
    "nltk.download('stopwords')"
   ]
  },
  {
   "cell_type": "code",
   "execution_count": 13,
   "id": "d5fb7b64-7a03-4a59-999e-308ebf2991f0",
   "metadata": {},
   "outputs": [],
   "source": [
    "lemmatizer = WordNetLemmatizer()\n",
    "stop_words = set(stopwords.words('english'))\n",
    "\n",
    "# Helper function to map POS tags\n",
    "def get_wordnet_pos(tag):\n",
    "    if tag.startswith('J'):\n",
    "        return wordnet.ADJ\n",
    "    elif tag.startswith('V'):\n",
    "        return wordnet.VERB\n",
    "    elif tag.startswith('N'):\n",
    "        return wordnet.NOUN\n",
    "    elif tag.startswith('R'):\n",
    "        return wordnet.ADV\n",
    "    else:\n",
    "        return wordnet.NOUN\n",
    "\n",
    "def lemmatizing(content):\n",
    "    text = re.sub('[^a-zA-Z]',' ', content)\n",
    "    text = text.lower()\n",
    "    text = text.split()\n",
    "    filtered_text = [word for word in text if word not in stop_words]\n",
    "\n",
    "    pos_tags = nltk.pos_tag(filtered_text)\n",
    "    lemmatized_words = [lemmatizer.lemmatize(word, get_wordnet_pos(tag)) for word, tag in pos_tags]\n",
    "    lemmatized_text = ' '.join(lemmatized_words)\n",
    "    \n",
    "    return lemmatized_text"
   ]
  },
  {
   "cell_type": "code",
   "execution_count": 14,
   "id": "1eaec380-f67a-48f9-a069-3e0d9947a4e2",
   "metadata": {},
   "outputs": [],
   "source": [
    "data['text'] = data['text'].apply(lemmatizing)"
   ]
  },
  {
   "cell_type": "code",
   "execution_count": 15,
   "id": "b1908129-9bf4-4cc3-b257-83713eb32781",
   "metadata": {},
   "outputs": [
    {
     "data": {
      "text/html": [
       "<div>\n",
       "<style scoped>\n",
       "    .dataframe tbody tr th:only-of-type {\n",
       "        vertical-align: middle;\n",
       "    }\n",
       "\n",
       "    .dataframe tbody tr th {\n",
       "        vertical-align: top;\n",
       "    }\n",
       "\n",
       "    .dataframe thead th {\n",
       "        text-align: right;\n",
       "    }\n",
       "</style>\n",
       "<table border=\"1\" class=\"dataframe\">\n",
       "  <thead>\n",
       "    <tr style=\"text-align: right;\">\n",
       "      <th></th>\n",
       "      <th>media</th>\n",
       "      <th>text</th>\n",
       "      <th>category</th>\n",
       "    </tr>\n",
       "  </thead>\n",
       "  <tbody>\n",
       "    <tr>\n",
       "      <th>0</th>\n",
       "      <td>facebook_corpus_msr_451811</td>\n",
       "      <td>quality make make think something buy fish market</td>\n",
       "      <td>0</td>\n",
       "    </tr>\n",
       "    <tr>\n",
       "      <th>1</th>\n",
       "      <td>facebook_corpus_msr_334368</td>\n",
       "      <td>siva ur mother ur wife ur sister hope everyone...</td>\n",
       "      <td>1</td>\n",
       "    </tr>\n",
       "    <tr>\n",
       "      <th>2</th>\n",
       "      <td>facebook_corpus_msr_331195</td>\n",
       "      <td>also see hw ur rss activist catch burkha throw...</td>\n",
       "      <td>1</td>\n",
       "    </tr>\n",
       "    <tr>\n",
       "      <th>3</th>\n",
       "      <td>facebook_corpus_msr_403402</td>\n",
       "      <td>death jawan loc cross firing h ble home minist...</td>\n",
       "      <td>1</td>\n",
       "    </tr>\n",
       "    <tr>\n",
       "      <th>4</th>\n",
       "      <td>facebook_corpus_msr_379239</td>\n",
       "      <td>modi ho ya manmohan singh saala yeh log kuch n...</td>\n",
       "      <td>0</td>\n",
       "    </tr>\n",
       "  </tbody>\n",
       "</table>\n",
       "</div>"
      ],
      "text/plain": [
       "                        media  \\\n",
       "0  facebook_corpus_msr_451811   \n",
       "1  facebook_corpus_msr_334368   \n",
       "2  facebook_corpus_msr_331195   \n",
       "3  facebook_corpus_msr_403402   \n",
       "4  facebook_corpus_msr_379239   \n",
       "\n",
       "                                                text  category  \n",
       "0  quality make make think something buy fish market         0  \n",
       "1  siva ur mother ur wife ur sister hope everyone...         1  \n",
       "2  also see hw ur rss activist catch burkha throw...         1  \n",
       "3  death jawan loc cross firing h ble home minist...         1  \n",
       "4  modi ho ya manmohan singh saala yeh log kuch n...         0  "
      ]
     },
     "execution_count": 15,
     "metadata": {},
     "output_type": "execute_result"
    }
   ],
   "source": [
    "data.head()"
   ]
  },
  {
   "cell_type": "markdown",
   "id": "f2913bc5-d06b-4965-b649-2adccb66333f",
   "metadata": {},
   "source": [
    "## Vectorization and train-test-split"
   ]
  },
  {
   "cell_type": "code",
   "execution_count": 16,
   "id": "0d91038c-aaa9-45bd-9904-7603794a39ef",
   "metadata": {},
   "outputs": [],
   "source": [
    "a = data['category'].values"
   ]
  },
  {
   "cell_type": "code",
   "execution_count": 17,
   "id": "aa537598-da3a-4f63-87ee-c44b2367d605",
   "metadata": {},
   "outputs": [],
   "source": [
    "def data_split_vectorization(df, ts, rs):\n",
    "    X_train, X_test, y_train, y_test = train_test_split(df['text'], df['category'], test_size = ts, stratify=a, random_state = rs)\n",
    "    \n",
    "    tfidfvector = TfidfVectorizer(ngram_range=(1, 3))\n",
    "    \n",
    "    training_data = tfidfvector.fit_transform(X_train)\n",
    "    \n",
    "    testing_data = tfidfvector.transform(X_test)\n",
    "    \n",
    "    filename = 'tfidfvectoizer.pkl'\n",
    "    \n",
    "    pickle.dump(tfidfvector.vocabulary_, open(filename, 'wb'))\n",
    "    # pickle.dump(tfidfvector, open(filename, 'wb'))\n",
    "\n",
    "    \n",
    "    return X_train, X_test, y_train, y_test, training_data, testing_data"
   ]
  },
  {
   "cell_type": "code",
   "execution_count": 18,
   "id": "8f379b28-fd9c-4c1f-8974-42743bfd8e54",
   "metadata": {},
   "outputs": [],
   "source": [
    "X_train, X_test, y_train, y_test, training_data, testing_data = data_split_vectorization(data, 0.2, 42)"
   ]
  },
  {
   "cell_type": "markdown",
   "id": "3a0a5cbe-b717-4293-b2e3-ab8822df74ea",
   "metadata": {},
   "source": [
    "## Model training"
   ]
  },
  {
   "cell_type": "code",
   "execution_count": 19,
   "id": "43a8af44-3724-444c-bf78-4ca9aaef89e3",
   "metadata": {},
   "outputs": [],
   "source": [
    "def pipeline(X_train, y_train, X_test, y_test):\n",
    "    ml_models = [LogisticRegression(), MultinomialNB(), LinearSVC(), SGDClassifier()]\n",
    "    \n",
    "    size = len(y_train)\n",
    "    \n",
    "    results = {}\n",
    "    \n",
    "    final_result = []\n",
    "    \n",
    "    for model in ml_models:\n",
    "        results['Algorithm'] = model.__class__.__name__\n",
    "        \n",
    "        start = time()\n",
    "        print(f\"Training Time : {model.__class__.__name__}\")\n",
    "        model.fit(X_train, y_train)\n",
    "        end = time()\n",
    "        \n",
    "        filename = model.__class__.__name__+\".pkl\"\n",
    "        pickle.dump(model, open(filename, \"wb\"))\n",
    "        \n",
    "        results['Training Time'] = end - start\n",
    "        \n",
    "        start = time()\n",
    "        prediction_train = model.predict(X_train)\n",
    "        prediction_test = model.predict(X_test)\n",
    "        end = time()\n",
    "        \n",
    "        results['Prediction Time'] = end - start\n",
    "        \n",
    "        results['Accuracy : Train'] = accuracy_score(y_train, prediction_train)\n",
    "        results['Accuracy : Test'] = accuracy_score(y_test, prediction_test)\n",
    "        \n",
    "        results['F1 Score : Test'] = f1_score(y_test, prediction_test, average='weighted')\n",
    "        results['F1 Score : Train'] = f1_score(y_train, prediction_train, average='weighted')\n",
    "        \n",
    "        results['Precision : Test'] = precision_score(y_test, prediction_test, average='weighted')\n",
    "        results['Precision : Train'] = precision_score(y_train, prediction_train, average='weighted')\n",
    "        \n",
    "        results['Recall : Test'] = recall_score(y_test, prediction_test, average='weighted')\n",
    "        results['Recall : Train'] = recall_score(y_train, prediction_train, average='weighted')\n",
    "        \n",
    "        print(f\"Training {model.__class__.__name__} finished in {results['Training Time']} sec\")\n",
    "        \n",
    "        final_result.append(results.copy())\n",
    "    return final_result"
   ]
  },
  {
   "cell_type": "code",
   "execution_count": 20,
   "id": "ac74e0ea-5340-48fb-9a90-76cd46bbcd94",
   "metadata": {},
   "outputs": [
    {
     "name": "stdout",
     "output_type": "stream",
     "text": [
      "Training Time : LogisticRegression\n",
      "Training LogisticRegression finished in 1.9874742031097412 sec\n",
      "Training Time : MultinomialNB\n",
      "Training MultinomialNB finished in 0.027102231979370117 sec\n",
      "Training Time : LinearSVC\n",
      "Training LinearSVC finished in 0.1606612205505371 sec\n",
      "Training Time : SGDClassifier\n",
      "Training SGDClassifier finished in 0.11164975166320801 sec\n"
     ]
    }
   ],
   "source": [
    "final_result = pipeline(training_data, y_train, testing_data, y_test)"
   ]
  },
  {
   "cell_type": "code",
   "execution_count": 21,
   "id": "92db7ee2-c8f0-44ee-99f2-0e7bf2923d4f",
   "metadata": {},
   "outputs": [],
   "source": [
    "def performfinalresult(final_results):\n",
    "    results = pd.DataFrame(final_results)\n",
    "    results.reindex(columns = ['Algorithm', 'Accuracy : Test', 'Precision : Test', 'Recall : Test', 'F1 Score : Test', 'Prediction Time',\n",
    "                          'Accuracy : Train', 'Precision : Train', 'Recall : Train', 'F1 Score : Train', 'Training Time'])\n",
    "    results.sort_values(by = 'F1 Score : Test', inplace=True)\n",
    "    \n",
    "    return results"
   ]
  },
  {
   "cell_type": "code",
   "execution_count": 22,
   "id": "24484cc2-8022-4dde-86a0-900882f209fc",
   "metadata": {},
   "outputs": [
    {
     "data": {
      "text/html": [
       "<div>\n",
       "<style scoped>\n",
       "    .dataframe tbody tr th:only-of-type {\n",
       "        vertical-align: middle;\n",
       "    }\n",
       "\n",
       "    .dataframe tbody tr th {\n",
       "        vertical-align: top;\n",
       "    }\n",
       "\n",
       "    .dataframe thead th {\n",
       "        text-align: right;\n",
       "    }\n",
       "</style>\n",
       "<table border=\"1\" class=\"dataframe\">\n",
       "  <thead>\n",
       "    <tr style=\"text-align: right;\">\n",
       "      <th></th>\n",
       "      <th>Algorithm</th>\n",
       "      <th>Training Time</th>\n",
       "      <th>Prediction Time</th>\n",
       "      <th>Accuracy : Train</th>\n",
       "      <th>Accuracy : Test</th>\n",
       "      <th>F1 Score : Test</th>\n",
       "      <th>F1 Score : Train</th>\n",
       "      <th>Precision : Test</th>\n",
       "      <th>Precision : Train</th>\n",
       "      <th>Recall : Test</th>\n",
       "      <th>Recall : Train</th>\n",
       "    </tr>\n",
       "  </thead>\n",
       "  <tbody>\n",
       "    <tr>\n",
       "      <th>0</th>\n",
       "      <td>MultinomialNB</td>\n",
       "      <td>0.027102</td>\n",
       "      <td>0.015458</td>\n",
       "      <td>0.938500</td>\n",
       "      <td>0.703099</td>\n",
       "      <td>0.662972</td>\n",
       "      <td>0.937672</td>\n",
       "      <td>0.760403</td>\n",
       "      <td>0.943676</td>\n",
       "      <td>0.703099</td>\n",
       "      <td>0.938500</td>\n",
       "    </tr>\n",
       "    <tr>\n",
       "      <th>1</th>\n",
       "      <td>LogisticRegression</td>\n",
       "      <td>1.987474</td>\n",
       "      <td>0.004745</td>\n",
       "      <td>0.910667</td>\n",
       "      <td>0.727757</td>\n",
       "      <td>0.713485</td>\n",
       "      <td>0.908969</td>\n",
       "      <td>0.737216</td>\n",
       "      <td>0.918625</td>\n",
       "      <td>0.727757</td>\n",
       "      <td>0.910667</td>\n",
       "    </tr>\n",
       "    <tr>\n",
       "      <th>2</th>\n",
       "      <td>SGDClassifier</td>\n",
       "      <td>0.111650</td>\n",
       "      <td>0.004008</td>\n",
       "      <td>0.965917</td>\n",
       "      <td>0.735422</td>\n",
       "      <td>0.726482</td>\n",
       "      <td>0.965760</td>\n",
       "      <td>0.738200</td>\n",
       "      <td>0.966756</td>\n",
       "      <td>0.735422</td>\n",
       "      <td>0.965917</td>\n",
       "    </tr>\n",
       "    <tr>\n",
       "      <th>3</th>\n",
       "      <td>LinearSVC</td>\n",
       "      <td>0.160661</td>\n",
       "      <td>0.004587</td>\n",
       "      <td>0.991333</td>\n",
       "      <td>0.732423</td>\n",
       "      <td>0.726821</td>\n",
       "      <td>0.991330</td>\n",
       "      <td>0.731376</td>\n",
       "      <td>0.991338</td>\n",
       "      <td>0.732423</td>\n",
       "      <td>0.991333</td>\n",
       "    </tr>\n",
       "  </tbody>\n",
       "</table>\n",
       "</div>"
      ],
      "text/plain": [
       "            Algorithm  Training Time  Prediction Time  Accuracy : Train  \\\n",
       "0       MultinomialNB       0.027102         0.015458          0.938500   \n",
       "1  LogisticRegression       1.987474         0.004745          0.910667   \n",
       "2       SGDClassifier       0.111650         0.004008          0.965917   \n",
       "3           LinearSVC       0.160661         0.004587          0.991333   \n",
       "\n",
       "   Accuracy : Test  F1 Score : Test  F1 Score : Train  Precision : Test  \\\n",
       "0         0.703099         0.662972          0.937672          0.760403   \n",
       "1         0.727757         0.713485          0.908969          0.737216   \n",
       "2         0.735422         0.726482          0.965760          0.738200   \n",
       "3         0.732423         0.726821          0.991330          0.731376   \n",
       "\n",
       "   Precision : Train  Recall : Test  Recall : Train  \n",
       "0           0.943676       0.703099        0.938500  \n",
       "1           0.918625       0.727757        0.910667  \n",
       "2           0.966756       0.735422        0.965917  \n",
       "3           0.991338       0.732423        0.991333  "
      ]
     },
     "execution_count": 22,
     "metadata": {},
     "output_type": "execute_result"
    }
   ],
   "source": [
    "results = performfinalresult(final_result)\n",
    "results.reset_index(drop = True)"
   ]
  },
  {
   "cell_type": "code",
   "execution_count": 26,
   "id": "5fc99551-9632-46bd-8e75-0c621a759bc7",
   "metadata": {},
   "outputs": [
    {
     "name": "stdin",
     "output_type": "stream",
     "text": [
      "Enter the text he is a good human\n"
     ]
    },
    {
     "name": "stdout",
     "output_type": "stream",
     "text": [
      "Non-cyberbullying\n"
     ]
    }
   ],
   "source": [
    "data = [input(\"Enter the text\")]\n",
    "\n",
    "tfidf_vector = TfidfVectorizer(stop_words=stopwords.words('english'), lowercase=True, vocabulary=pickle.load(open(\"tfidfvectoizer.pkl\", \"rb\")))\n",
    "# tfidf_vector = pickle.load(open(\"tfidfvectoizer.pkl\", \"rb\"))\n",
    "preprocessed_data = tfidf_vector.fit_transform(data)\n",
    "\n",
    "trained_model = pickle.load(open('LinearSVC.pkl', 'rb'))\n",
    "\n",
    "\n",
    "if(trained_model.predict(preprocessed_data)==0):\n",
    "    print(\"Cyberbullying\")\n",
    "else:\n",
    "    print('Non-cyberbullying')"
   ]
  },
  {
   "cell_type": "code",
   "execution_count": null,
   "id": "551fd797-0034-4878-add7-c3aaf7f36825",
   "metadata": {},
   "outputs": [],
   "source": []
  }
 ],
 "metadata": {
  "kernelspec": {
   "display_name": "Python 3 (ipykernel)",
   "language": "python",
   "name": "python3"
  },
  "language_info": {
   "codemirror_mode": {
    "name": "ipython",
    "version": 3
   },
   "file_extension": ".py",
   "mimetype": "text/x-python",
   "name": "python",
   "nbconvert_exporter": "python",
   "pygments_lexer": "ipython3",
   "version": "3.11.2"
  }
 },
 "nbformat": 4,
 "nbformat_minor": 5
}
